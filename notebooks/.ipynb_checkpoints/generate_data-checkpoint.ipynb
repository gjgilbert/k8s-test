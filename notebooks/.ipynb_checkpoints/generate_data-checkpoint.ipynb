{
 "cells": [
  {
   "cell_type": "code",
   "execution_count": 1,
   "id": "7c0448a8",
   "metadata": {},
   "outputs": [],
   "source": [
    "import numpy as np\n",
    "import matplotlib.pyplot as plt"
   ]
  },
  {
   "cell_type": "code",
   "execution_count": 2,
   "id": "4fb0d199",
   "metadata": {},
   "outputs": [],
   "source": [
    "path = '/Users/research/projects/k8s-test/'\n",
    "\n",
    "Nobj = 7\n",
    "Npts = 100\n",
    "\n",
    "ms = np.random.uniform(-3,3,size=Nobj)\n",
    "bs = np.random.uniform(-3,3,size=Nobj)\n",
    "\n",
    "for i in range(Nobj):\n",
    "    fname = path + 'data/data_{0}.txt'.format(str(i).zfill(3))\n",
    "    \n",
    "    x = np.linspace(0,3,Npts)\n",
    "    y = ms[i]*x + bs[i] + np.random.normal(size=Npts)\n",
    "    \n",
    "    np.savetxt(fname, np.vstack([x,y]).T)"
   ]
  },
  {
   "cell_type": "code",
   "execution_count": null,
   "id": "3ecfa777",
   "metadata": {},
   "outputs": [],
   "source": []
  }
 ],
 "metadata": {
  "kernelspec": {
   "display_name": "Python 3 (ipykernel)",
   "language": "python",
   "name": "python3"
  },
  "language_info": {
   "codemirror_mode": {
    "name": "ipython",
    "version": 3
   },
   "file_extension": ".py",
   "mimetype": "text/x-python",
   "name": "python",
   "nbconvert_exporter": "python",
   "pygments_lexer": "ipython3",
   "version": "3.9.7"
  }
 },
 "nbformat": 4,
 "nbformat_minor": 5
}
