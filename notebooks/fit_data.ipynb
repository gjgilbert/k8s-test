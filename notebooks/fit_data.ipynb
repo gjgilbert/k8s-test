{
 "cells": [
  {
   "cell_type": "code",
   "execution_count": null,
   "id": "d02b14b3",
   "metadata": {},
   "outputs": [],
   "source": [
    "import numpy as np\n",
    "import matplotlib.pyplot as plt\n",
    "import pymc as pm\n",
    "from   astropy.io import fits\n",
    "import os\n",
    "import argparse"
   ]
  },
  {
   "cell_type": "code",
   "execution_count": null,
   "id": "7445370c",
   "metadata": {},
   "outputs": [],
   "source": [
    "parser = argparse.ArgumentParser(description=\"K8s toy model\")\n",
    "parser.add_argument(\"--run_id\", default=None, type=str, required=True)\n",
    "parser.add_argument(\"--data_dir\", default=None, type=str, required=True)\n",
    "parser.add_argument(\"--output_dir\", default=None, type=str, required=True)\n",
    "\n",
    "args = parser.parse_args()\n",
    "\n",
    "run_id = int(args.run_id)\n",
    "data_dir = args.data_dir\n",
    "output_dir = args.output_dir"
   ]
  },
  {
   "cell_type": "code",
   "execution_count": null,
   "id": "23b786a3",
   "metadata": {},
   "outputs": [],
   "source": [
    "#run_id = 3\n",
    "#data_dir = '/Users/research/projects/k8s-test/data/'\n",
    "#output_dir = '/Users/research/projects/k8s-test/results/'"
   ]
  },
  {
   "cell_type": "code",
   "execution_count": null,
   "id": "a44786f2",
   "metadata": {},
   "outputs": [],
   "source": [
    "# load data and run linear regression\n",
    "fname = os.path.join(data_dir, 'data_{0}.txt'.format(str(run_id).zfill(3)))\n",
    "data = np.loadtxt(fname).T\n",
    "x, y = data\n",
    "\n",
    "with pm.Model() as model:\n",
    "    m = pm.Uniform(\"m\", -5, 5)\n",
    "    b = pm.Uniform(\"b\", -5, 5)\n",
    "    \n",
    "    obs = pm.Normal(\"obs\", m*x + b, observed=y)\n",
    "    \n",
    "with model:\n",
    "    trace = pm.sample(chains=2, tune=1000, draws=1000)"
   ]
  },
  {
   "cell_type": "code",
   "execution_count": null,
   "id": "9fec7710",
   "metadata": {},
   "outputs": [],
   "source": [
    "# output posterior chains as .fits file\n",
    "primary_hdu = fits.PrimaryHDU()\n",
    "header = primary_hdu.header\n",
    "header['RUN_ID']  = run_id\n",
    "header['NCHAINS'] = trace.sample_stats.dims['chain']\n",
    "header['SAMPTIME'] = trace.sample_stats.attrs['sampling_time']\n",
    "\n",
    "primary_hdu.header = header\n",
    "\n",
    "hdulist = []\n",
    "hdulist.append(primary_hdu)\n",
    "\n",
    "hdulist.append(fits.ImageHDU(np.array(trace.posterior.m), name='M'))\n",
    "hdulist.append(fits.ImageHDU(np.array(trace.posterior.b), name='B'))\n",
    "\n",
    "hdulist = fits.HDUList(hdulist)\n",
    "\n",
    "fname = os.path.join(output_dir, 'results_{0}.fits'.format(str(run_id).zfill(3)))\n",
    "\n",
    "hdulist.writeto(fname)"
   ]
  },
  {
   "cell_type": "code",
   "execution_count": null,
   "id": "2ca61b63",
   "metadata": {},
   "outputs": [],
   "source": []
  }
 ],
 "metadata": {
  "kernelspec": {
   "display_name": "Python 3 (ipykernel)",
   "language": "python",
   "name": "python3"
  },
  "language_info": {
   "codemirror_mode": {
    "name": "ipython",
    "version": 3
   },
   "file_extension": ".py",
   "mimetype": "text/x-python",
   "name": "python",
   "nbconvert_exporter": "python",
   "pygments_lexer": "ipython3",
   "version": "3.9.7"
  }
 },
 "nbformat": 4,
 "nbformat_minor": 5
}
