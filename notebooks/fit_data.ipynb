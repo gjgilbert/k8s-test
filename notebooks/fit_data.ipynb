{
 "cells": [
  {
   "cell_type": "code",
   "execution_count": 1,
   "id": "d02b14b3",
   "metadata": {},
   "outputs": [],
   "source": [
    "import numpy as np\n",
    "import matplotlib.pyplot as plt\n",
    "import pymc as pm\n",
    "from   astropy.io import fits\n",
    "import os\n",
    "import argparse"
   ]
  },
  {
   "cell_type": "code",
   "execution_count": null,
   "id": "7445370c",
   "metadata": {},
   "outputs": [],
   "source": [
    "parser = argparse.ArgumentParser(description=\"K8s toy model\")\n",
    "parser.add_argument(\"--run_id\", default=None, type=int, required=True)\n",
    "parser.add_argument(\"--project_dir\", default=None, type=str, required=True)\n",
    "\n",
    "args = parser.parse_args()\n",
    "\n",
    "run_id = args.run_id\n",
    "project_dir = args.project_dir"
   ]
  },
  {
   "cell_type": "code",
   "execution_count": 2,
   "id": "23b786a3",
   "metadata": {},
   "outputs": [],
   "source": [
    "run_id = 1\n",
    "project_dir = '/Users/research/projects/k8s-test/'"
   ]
  },
  {
   "cell_type": "code",
   "execution_count": 3,
   "id": "a44786f2",
   "metadata": {},
   "outputs": [
    {
     "name": "stderr",
     "output_type": "stream",
     "text": [
      "Auto-assigning NUTS sampler...\n",
      "Initializing NUTS using jitter+adapt_diag...\n",
      "Multiprocess sampling (2 chains in 4 jobs)\n",
      "NUTS: [m, b]\n"
     ]
    },
    {
     "data": {
      "text/html": [
       "\n",
       "<style>\n",
       "    /* Turns off some styling */\n",
       "    progress {\n",
       "        /* gets rid of default border in Firefox and Opera. */\n",
       "        border: none;\n",
       "        /* Needs to be in here for Safari polyfill so background images work as expected. */\n",
       "        background-size: auto;\n",
       "    }\n",
       "    progress:not([value]), progress:not([value])::-webkit-progress-bar {\n",
       "        background: repeating-linear-gradient(45deg, #7e7e7e, #7e7e7e 10px, #5c5c5c 10px, #5c5c5c 20px);\n",
       "    }\n",
       "    .progress-bar-interrupted, .progress-bar-interrupted::-webkit-progress-bar {\n",
       "        background: #F44336;\n",
       "    }\n",
       "</style>\n"
      ],
      "text/plain": [
       "<IPython.core.display.HTML object>"
      ]
     },
     "metadata": {},
     "output_type": "display_data"
    },
    {
     "data": {
      "text/html": [
       "\n",
       "    <div>\n",
       "      <progress value='4000' class='' max='4000' style='width:300px; height:20px; vertical-align: middle;'></progress>\n",
       "      100.00% [4000/4000 00:01&lt;00:00 Sampling 2 chains, 0 divergences]\n",
       "    </div>\n",
       "    "
      ],
      "text/plain": [
       "<IPython.core.display.HTML object>"
      ]
     },
     "metadata": {},
     "output_type": "display_data"
    },
    {
     "name": "stderr",
     "output_type": "stream",
     "text": [
      "Sampling 2 chains for 1_000 tune and 1_000 draw iterations (2_000 + 2_000 draws total) took 6 seconds.\n",
      "We recommend running at least 4 chains for robust computation of convergence diagnostics\n"
     ]
    }
   ],
   "source": [
    "# load data and run linear regression\n",
    "fname = project_dir + 'data/data_{0}.txt'.format(str(run_id).zfill(3))\n",
    "data = np.loadtxt(fname).T\n",
    "x, y = data\n",
    "\n",
    "with pm.Model() as model:\n",
    "    m = pm.Uniform(\"m\", -5, 5)\n",
    "    b = pm.Uniform(\"b\", -5, 5)\n",
    "    \n",
    "    obs = pm.Normal(\"obs\", m*x + b, observed=y)\n",
    "    \n",
    "with model:\n",
    "    trace = pm.sample(chains=2, tune=1000, draws=1000)"
   ]
  },
  {
   "cell_type": "code",
   "execution_count": 4,
   "id": "9fec7710",
   "metadata": {},
   "outputs": [],
   "source": [
    "# output posterior chains as .fits file\n",
    "primary_hdu = fits.PrimaryHDU()\n",
    "header = primary_hdu.header\n",
    "header['RUN_ID']  = run_id\n",
    "header['NCHAINS'] = trace.sample_stats.dims['chain']\n",
    "header['SAMPTIME'] = trace.sample_stats.attrs['sampling_time']\n",
    "\n",
    "primary_hdu.header = header\n",
    "\n",
    "hdulist = []\n",
    "hdulist.append(primary_hdu)\n",
    "\n",
    "hdulist.append(fits.ImageHDU(np.array(trace.posterior.m), name='M'))\n",
    "hdulist.append(fits.ImageHDU(np.array(trace.posterior.b), name='B'))\n",
    "\n",
    "hdulist = fits.HDUList(hdulist)\n",
    "\n",
    "fname = project_dir + 'data/data_{0}.txt'.format(str(run_id).zfill(3))\n",
    "data = np.loadtxt(fname).T\n",
    "x, y = data"
   ]
  },
  {
   "cell_type": "code",
   "execution_count": null,
   "id": "2ca61b63",
   "metadata": {},
   "outputs": [],
   "source": []
  }
 ],
 "metadata": {
  "kernelspec": {
   "display_name": "Python 3 (ipykernel)",
   "language": "python",
   "name": "python3"
  },
  "language_info": {
   "codemirror_mode": {
    "name": "ipython",
    "version": 3
   },
   "file_extension": ".py",
   "mimetype": "text/x-python",
   "name": "python",
   "nbconvert_exporter": "python",
   "pygments_lexer": "ipython3",
   "version": "3.9.7"
  }
 },
 "nbformat": 4,
 "nbformat_minor": 5
}
